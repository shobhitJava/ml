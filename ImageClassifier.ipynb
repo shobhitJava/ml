{
  "nbformat": 4,
  "nbformat_minor": 0,
  "metadata": {
    "colab": {
      "name": "Untitled0.ipynb",
      "provenance": [],
      "authorship_tag": "ABX9TyNwN2kRYnmLCt1BTzqXBxNz",
      "include_colab_link": true
    },
    "kernelspec": {
      "name": "python3",
      "display_name": "Python 3"
    }
  },
  "cells": [
    {
      "cell_type": "markdown",
      "metadata": {
        "id": "view-in-github",
        "colab_type": "text"
      },
      "source": [
        "<a href=\"https://colab.research.google.com/github/shobhitJava/ml/blob/master/ImageClassifier.ipynb\" target=\"_parent\"><img src=\"https://colab.research.google.com/assets/colab-badge.svg\" alt=\"Open In Colab\"/></a>"
      ]
    },
    {
      "cell_type": "code",
      "metadata": {
        "id": "lXKg3CKe24CP",
        "colab_type": "code",
        "colab": {}
      },
      "source": [
        "from __future__ import absolute_import, division, print_function, unicode_literals\n",
        "\n",
        "# TensorFlow and tf.keras\n",
        "import tensorflow as tf\n",
        "from tensorflow import keras\n",
        "\n",
        "\n",
        "# Helper libraries\n",
        "import numpy as np\n",
        "import matplotlib.pyplot as plt\n",
        "\n",
        "\n",
        "print(tf.__version__)"
      ],
      "execution_count": 0,
      "outputs": []
    },
    {
      "cell_type": "code",
      "metadata": {
        "id": "YmhBf9ob35h9",
        "colab_type": "code",
        "colab": {}
      },
      "source": [
        "data = keras.datasets.fashion_mnist\n",
        "(train_images, train_label),(test_images, test_label)= data.load_data()\n",
        "class_names = ['T-shirt/top', 'Trouser', 'Pullover', 'Dress', 'Coat',\n",
        "               'Sandal', 'Shirt', 'Sneaker', 'Bag', 'Ankle boot']\n",
        "\n",
        "train_images = train_images/255.0\n",
        "test_images = test_images/255.0\n",
        "#print(train_images[7])\n",
        "plt.imshow(train_images[7], cmap=plt.cm.binary)\n",
        "plt.show()\n",
        "\n",
        "model = keras.Sequential([\n",
        "  keras.layers.Flatten(input_shape=(28,28)),\n",
        "  keras.layers.Dense(128, activation=\"relu\"),\n",
        "  keras.layers.Dense(10, activation=\"softmax\")                      \n",
        "])\n",
        "\n",
        "model.compile(optimizer=\"adam\" , loss=\"sparse_categorical_crossentropy\" , metrics=[\"accuracy\"])\n",
        "model.fit(train_images, train_label, epochs=5)\n",
        "\n",
        "#test_loss, test_acc = model.evaluate(test_images, test_label)\n",
        "\n",
        "#print(\"Test accuracy :\",test_acc)\n",
        "\n",
        "\n"
      ],
      "execution_count": 0,
      "outputs": []
    },
    {
      "cell_type": "code",
      "metadata": {
        "id": "wSFGTlxIlBJu",
        "colab_type": "code",
        "colab": {}
      },
      "source": [
        "prediction = model.predict(test_images)\n",
        "for x in range[10]:\n",
        "  plt.imshow(test_images[x], cmap=pl)\n",
        "  print(class_names[np.argmax(x)])"
      ],
      "execution_count": 0,
      "outputs": []
    }
  ]
}