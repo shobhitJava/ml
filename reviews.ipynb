{
  "nbformat": 4,
  "nbformat_minor": 0,
  "metadata": {
    "colab": {
      "name": "Untitled1.ipynb",
      "provenance": [],
      "authorship_tag": "ABX9TyM4B0cpXxVSiL3kEnOWIzvo",
      "include_colab_link": true
    },
    "kernelspec": {
      "name": "python3",
      "display_name": "Python 3"
    }
  },
  "cells": [
    {
      "cell_type": "markdown",
      "metadata": {
        "id": "view-in-github",
        "colab_type": "text"
      },
      "source": [
        "<a href=\"https://colab.research.google.com/github/shobhitJava/ml/blob/master/reviews.ipynb\" target=\"_parent\"><img src=\"https://colab.research.google.com/assets/colab-badge.svg\" alt=\"Open In Colab\"/></a>"
      ]
    },
    {
      "cell_type": "code",
      "metadata": {
        "id": "im5TDJuPyOvJ",
        "colab_type": "code",
        "colab": {}
      },
      "source": [
        "try:\n",
        "  # %tensorflow_version only exists in Colab.\n",
        "  %tensorflow_version 2.x\n",
        "except Exception:\n",
        "  pass\n",
        "import tensorflow as tf\n",
        "from tensorflow import keras\n",
        "from tensorflow.keras import layers\n"
      ],
      "execution_count": 0,
      "outputs": []
    },
    {
      "cell_type": "code",
      "metadata": {
        "id": "uxwhGw9SyjCt",
        "colab_type": "code",
        "colab": {}
      },
      "source": [
        "data = keras.datasets.imdb\n",
        "(train_data, train_label),(test_data, test_label) = data.load_data(num_words=10000)\n",
        "\n",
        "word_index = data.get_word_index()\n",
        "\n",
        "word_index= {k:(v+3) for k,v in word_index.items()}\n",
        "word_index[\"<PAD>\"] = 0\n",
        "word_index[\"<START>\"] = 1\n",
        "word_index[\"<UNK>\"] = 2\n",
        "word_index[\"<UNUSED>\"] = 3\n",
        "\n",
        "word_index[\"<br>\"] = 4\n",
        "\n",
        "reverse_word_index = dict([(value,key) for (key,value) in word_index.items()])\n",
        "#print(test_data[0])\n",
        "\n",
        "train_data = keras.preprocessing.sequence.pad_sequences(train_data, value=word_index[\"<PAD>\"], padding=\"post\", maxlen=250)\n",
        "test_data = keras.preprocessing.sequence.pad_sequences(test_data, value=word_index[\"<PAD>\"], padding=\"post\", maxlen=250)\n",
        "\n",
        "def decode_review(test):\n",
        "      return \" \".join([reverse_word_index.get(i,\"?\") for i in test])\n",
        "\n",
        "#print(decode_review(test_data[0]))\n",
        "#print(len(test_data[0]),len(test_data[1]))\n",
        "#model down here\n",
        "\n",
        "model = keras.Sequential()\n",
        "model.add(keras.layers.Embedding(10000,16))\n",
        "model.add(keras.layers.GlobalAveragePooling1D())\n",
        "model.add(keras.layers.Dense(16, activation=\"relu\"))\n",
        "model.add(keras.layers.Dense(1, activation=\"sigmoid\"))\n",
        "\n",
        "#model.summary()\n",
        "\n",
        "model.compile(optimizer=\"adam\", loss=\"binary_crossentropy\" ,metrics=[\"accuracy\"])\n",
        "\n",
        "x_val= train_data[:10000]\n",
        "x_train= train_data[10000:]\n",
        "\n",
        "y_val= train_label[:10000]\n",
        "y_train= train_label[10000:]\n",
        "\n",
        "fitmodel=model.fit(x_train,y_train , epochs=40, batch_size=512, validation_data=(x_val,y_val), verbose=1)\n",
        "\n",
        "\n",
        "results= model.evaluate(test_data,test_label)\n",
        "print(results)"
      ],
      "execution_count": 0,
      "outputs": []
    },
    {
      "cell_type": "code",
      "metadata": {
        "id": "mDkp9AtrUtFG",
        "colab_type": "code",
        "colab": {}
      },
      "source": [
        "def rev_encode(s):\n",
        "  encoded =[1]\n",
        "  for word in s:\n",
        "    if word in word_index:\n",
        "      encoded.append(word_index[word])\n",
        "    else:\n",
        "      encoded.append(2)\n",
        "  return encoded \n",
        "\n",
        "\n",
        "line=\"I, hated the movie very much\"\n",
        "nline= line.replace(\",\",\"\").strip()\n",
        "encode= rev_encode(nline)\n",
        "encode = keras.preprocessing.sequence.pad_sequences([encode], value=word_index[\"<PAD>\"], padding=\"post\", maxlen=250)\n",
        "predict =model.predict(encode)\n",
        "print(encode)\n",
        "print(predict[0])\n",
        "\n",
        "\n"
      ],
      "execution_count": 0,
      "outputs": []
    },
    {
      "cell_type": "code",
      "metadata": {
        "id": "96QKJ20iMgpp",
        "colab_type": "code",
        "colab": {}
      },
      "source": [
        "test_rev= test_data[4]\n",
        "predict= model.predict(test_rev)\n",
        "print(\"Review\")\n",
        "print(decode_review(test_rev))\n",
        "\n",
        "print(\"Prediction: \"+ str(predict[0]))\n",
        "print(\"Actual \"+ str(test_label[0]))\n",
        "print(results)"
      ],
      "execution_count": 0,
      "outputs": []
    }
  ]
}